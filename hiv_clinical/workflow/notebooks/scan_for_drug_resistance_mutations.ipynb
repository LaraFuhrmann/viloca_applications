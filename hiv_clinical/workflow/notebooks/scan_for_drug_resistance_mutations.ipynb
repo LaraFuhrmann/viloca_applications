{
 "cells": [
  {
   "cell_type": "code",
   "execution_count": 23,
   "id": "b064dd44",
   "metadata": {},
   "outputs": [],
   "source": [
    "import pandas as pd\n",
    "import numpy as np\n",
    "import seaborn as sns\n",
    "import matplotlib.pyplot as plt"
   ]
  },
  {
   "cell_type": "code",
   "execution_count": 24,
   "id": "2c44e68e",
   "metadata": {},
   "outputs": [],
   "source": [
    "# download table of drug resistance mutations\n",
    "# https://github.com/hivdb/hivfacts/blob/main/data/drms_hiv1.csv"
   ]
  },
  {
   "cell_type": "code",
   "execution_count": 25,
   "id": "0149b7da",
   "metadata": {},
   "outputs": [
    {
     "name": "stderr",
     "output_type": "stream",
     "text": [
      "--2024-04-04 10:16:27--  https://raw.githubusercontent.com/hivdb/hivfacts/main/data/drms_hiv1.csv\n",
      "Resolving raw.githubusercontent.com (raw.githubusercontent.com)... 2606:50c0:8002::154, 2606:50c0:8003::154, 2606:50c0:8001::154, ...\n",
      "Connecting to raw.githubusercontent.com (raw.githubusercontent.com)|2606:50c0:8002::154|:443... connected.\n",
      "HTTP request sent, awaiting response... 200 OK\n",
      "Length: 3655 (3.6K) [text/plain]\n",
      "Saving to: ‘drms_hiv1.csv.1’\n",
      "\n",
      "     0K ...                                                   100% 34.2M=0s\n",
      "\n",
      "2024-04-04 10:16:27 (34.2 MB/s) - ‘drms_hiv1.csv.1’ saved [3655/3655]\n",
      "\n"
     ]
    }
   ],
   "source": [
    "%%bash\n",
    "wget https://raw.githubusercontent.com/hivdb/hivfacts/main/data/drms_hiv1.csv"
   ]
  },
  {
   "cell_type": "code",
   "execution_count": 26,
   "id": "d0081d2b",
   "metadata": {},
   "outputs": [],
   "source": [
    "df_drms_hiv1 = pd.read_csv(\"drms_hiv1.csv\")\n",
    "df_drms_hiv1['position'] = df_drms_hiv1['position'].astype(int)\n",
    "\n",
    "CA_positions = list(df_drms_hiv1[df_drms_hiv1['gene']=='CA']['position'])\n",
    "PR_positions = list(df_drms_hiv1[df_drms_hiv1['gene']=='PR']['position'])\n",
    "RT_positions = list(df_drms_hiv1[df_drms_hiv1['gene']=='RT']['position'])\n",
    "IN_positions = list(df_drms_hiv1[df_drms_hiv1['gene']=='IN']['position'])"
   ]
  },
  {
   "cell_type": "code",
   "execution_count": 27,
   "id": "67c26934",
   "metadata": {},
   "outputs": [],
   "source": [
    "df = pd.read_csv(\"../../results/all_mutations.annotated.csv\")\n",
    "df['n_reads_var'] = df['Rvar'] + df['Fvar']\n",
    "df['coverage'] = df['Rtot'] + df['Ftot']\n",
    "df['frequency'] = df['n_reads_var'] / df['coverage']\n",
    "df[\"gene\"].unique()\n",
    "df['aa_position'] = df['aa_position'].apply(lambda x: np.nan if x==\"error\" else int(x))"
   ]
  },
  {
   "cell_type": "code",
   "execution_count": 28,
   "id": "8bd0802c",
   "metadata": {},
   "outputs": [],
   "source": [
    "df = df[['patient', 'time', 'Pos', 'Ref', 'Var', 'frequency',\n",
    "         'AltAA_f1', 'RefAA_f1', 'f1_IsSynonymous',\n",
    "         'AltAA_f2', 'RefAA_f2', 'f2_IsSynonymous',\n",
    "         'AltAA_f3', 'RefAA_f3', 'f3_IsSynonymous',\n",
    "          'gene', 'aa_position']]\n",
    "\n",
    "df['time'] = df['time'].str.split('_').str[1]"
   ]
  },
  {
   "cell_type": "code",
   "execution_count": 29,
   "id": "060e1ab3",
   "metadata": {},
   "outputs": [
    {
     "data": {
      "text/plain": [
       "array(['error', 'CA', 'PR', 'RT', 'IN'], dtype=object)"
      ]
     },
     "execution_count": 29,
     "metadata": {},
     "output_type": "execute_result"
    }
   ],
   "source": [
    "df['gene'].unique()"
   ]
  },
  {
   "cell_type": "code",
   "execution_count": 30,
   "id": "166e7d95",
   "metadata": {},
   "outputs": [
    {
     "data": {
      "text/plain": [
       "array(['254', '216', '10', '273', '60', '31', '112', '87', '165', '138',\n",
       "       '242', '282', '190', '218', '7', '30', '321', '358', '54', '80',\n",
       "       '240', '213', '191', '161', '135', '28', '9'], dtype=object)"
      ]
     },
     "execution_count": 30,
     "metadata": {},
     "output_type": "execute_result"
    }
   ],
   "source": [
    "df['time'].unique()"
   ]
  },
  {
   "cell_type": "code",
   "execution_count": 31,
   "id": "055b5cd6",
   "metadata": {},
   "outputs": [],
   "source": [
    "# exclude CA_positions for now\n",
    "df_res_CA = df[((df['gene']=='CA') & (df[\"aa_position\"].isin(CA_positions)))]\n",
    "df_res_CA = pd.merge(df_res_CA, df_drms_hiv1[df_drms_hiv1['gene']=='CA'], left_on=\"aa_position\", right_on=\"position\")\n",
    "\n",
    "df_res_PR = df[((df['gene']=='PR') & (df[\"aa_position\"].isin(PR_positions)))]\n",
    "df_res_PR = pd.merge(df_res_PR, df_drms_hiv1[df_drms_hiv1['gene']=='PR'], left_on=\"aa_position\", right_on=\"position\")\n",
    "# PR corresponding to frame3 in our dataframe annotations\n",
    "\n",
    "df_res_RT = df[((df['gene']=='RT') & (df[\"aa_position\"].isin(RT_positions)))]\n",
    "df_res_RT = pd.merge(df_res_RT, df_drms_hiv1[df_drms_hiv1['gene']=='RT'], left_on=\"aa_position\", right_on=\"position\")\n",
    "# RT corresponding to frame3 in our dataframe annotations\n",
    "\n",
    "df_res_IN = df[((df['gene']=='IN') & (df[\"aa_position\"].isin(IN_positions)))]\n",
    "df_res_IN = pd.merge(df_res_IN, df_drms_hiv1[df_drms_hiv1['gene']=='IN'], left_on=\"aa_position\", right_on=\"position\")\n",
    "# IN corresponding to frame3 in our dataframe annotations\n",
    "# however postion 232 has the wrong reference somehow \n",
    "\n",
    "\n",
    "df_res = pd.concat([df_res_PR, df_res_RT, df_res_IN, df_res_CA])\n",
    "\n",
    "df_res = df_res[['patient', 'time', 'Pos', 'Ref', 'Var', 'frequency',\n",
    "       'AltAA_f3', 'RefAA_f3', 'f3_IsSynonymous', 'gene_x', 'aa_position',\n",
    "       'drug_class', 'gene_y', 'position', 'aa']]"
   ]
  },
  {
   "cell_type": "code",
   "execution_count": 32,
   "id": "ec7f276b",
   "metadata": {},
   "outputs": [],
   "source": [
    "df_res = df_res[df_res['f3_IsSynonymous']==0]"
   ]
  },
  {
   "cell_type": "code",
   "execution_count": 33,
   "id": "f0c68054",
   "metadata": {},
   "outputs": [
    {
     "data": {
      "text/plain": [
       "array(['CAP206', 'CAP217', 'CAP257', 'CAP287'], dtype=object)"
      ]
     },
     "execution_count": 33,
     "metadata": {},
     "output_type": "execute_result"
    }
   ],
   "source": [
    "df_res['patient'].unique()"
   ]
  },
  {
   "cell_type": "code",
   "execution_count": 34,
   "id": "c75b1a30",
   "metadata": {},
   "outputs": [],
   "source": [
    "# load coverage \n",
    "\n",
    "df_coverage = pd.read_csv(\"../../results/all_coverage.csv\")\n",
    "df_coverage['patient'] = df_coverage['sample'].str.split('/').str[0]\n",
    "df_coverage['time'] = df_coverage['sample'].str.split('/').str[1].str.split('_').str[1].astype(int)"
   ]
  },
  {
   "cell_type": "code",
   "execution_count": 122,
   "id": "bbacf480",
   "metadata": {
    "scrolled": false
   },
   "outputs": [
    {
     "name": "stderr",
     "output_type": "stream",
     "text": [
      "/var/folders/dw/8dl4p6h53cgcmk6cf_09v5f40000gr/T/ipykernel_36740/2574115072.py:5: SettingWithCopyWarning: \n",
      "A value is trying to be set on a copy of a slice from a DataFrame.\n",
      "Try using .loc[row_indexer,col_indexer] = value instead\n",
      "\n",
      "See the caveats in the documentation: https://pandas.pydata.org/pandas-docs/stable/user_guide/indexing.html#returning-a-view-versus-a-copy\n",
      "  df_plot['mutation_label'] = df_plot['gene_x']+'-'+df_plot['RefAA_f3']+'>'+df_plot['AltAA_f3']+df_plot['position'].astype(str)\n",
      "/var/folders/dw/8dl4p6h53cgcmk6cf_09v5f40000gr/T/ipykernel_36740/2574115072.py:46: FutureWarning: The frame.append method is deprecated and will be removed from pandas in a future version. Use pandas.concat instead.\n",
      "  df_plot = df_plot.append({'mutation_label': mutation_label,\n",
      "/var/folders/dw/8dl4p6h53cgcmk6cf_09v5f40000gr/T/ipykernel_36740/2574115072.py:46: FutureWarning: The frame.append method is deprecated and will be removed from pandas in a future version. Use pandas.concat instead.\n",
      "  df_plot = df_plot.append({'mutation_label': mutation_label,\n",
      "/var/folders/dw/8dl4p6h53cgcmk6cf_09v5f40000gr/T/ipykernel_36740/2574115072.py:46: FutureWarning: The frame.append method is deprecated and will be removed from pandas in a future version. Use pandas.concat instead.\n",
      "  df_plot = df_plot.append({'mutation_label': mutation_label,\n",
      "/var/folders/dw/8dl4p6h53cgcmk6cf_09v5f40000gr/T/ipykernel_36740/2574115072.py:46: FutureWarning: The frame.append method is deprecated and will be removed from pandas in a future version. Use pandas.concat instead.\n",
      "  df_plot = df_plot.append({'mutation_label': mutation_label,\n",
      "/var/folders/dw/8dl4p6h53cgcmk6cf_09v5f40000gr/T/ipykernel_36740/2574115072.py:46: FutureWarning: The frame.append method is deprecated and will be removed from pandas in a future version. Use pandas.concat instead.\n",
      "  df_plot = df_plot.append({'mutation_label': mutation_label,\n",
      "/var/folders/dw/8dl4p6h53cgcmk6cf_09v5f40000gr/T/ipykernel_36740/2574115072.py:46: FutureWarning: The frame.append method is deprecated and will be removed from pandas in a future version. Use pandas.concat instead.\n",
      "  df_plot = df_plot.append({'mutation_label': mutation_label,\n",
      "/var/folders/dw/8dl4p6h53cgcmk6cf_09v5f40000gr/T/ipykernel_36740/2574115072.py:46: FutureWarning: The frame.append method is deprecated and will be removed from pandas in a future version. Use pandas.concat instead.\n",
      "  df_plot = df_plot.append({'mutation_label': mutation_label,\n"
     ]
    },
    {
     "name": "stdout",
     "output_type": "stream",
     "text": [
      "[4668]\n"
     ]
    },
    {
     "data": {
      "image/png": "[encoded data removed]",
      "text/plain": [
       "<Figure size 2160x864 with 2 Axes>"
      ]
     },
     "metadata": {},
     "output_type": "display_data"
    }
   ],
   "source": [
    "patient_id = 'CAP257'\n",
    "\n",
    "df_coverage = df_coverage[df_coverage['patient']==patient_id]\n",
    "df_plot = df_res[df_res['patient']==patient_id]\n",
    "df_plot['mutation_label'] = df_plot['gene_x']+'-'+df_plot['RefAA_f3']+'>'+df_plot['AltAA_f3']+df_plot['position'].astype(str)\n",
    "\n",
    "times = df_plot['time'].astype(int).unique()\n",
    "\n",
    "\n",
    "mutattion_label_of_interest = [\n",
    "                              #'IN-T>A97', # this mutations don't show up with coverage threshold of 500\n",
    "                               'IN-S>G147', \n",
    "                               #'IN-V>A151', \n",
    "                               #'RT-A>V62', \n",
    "                               #'RT-A>T62', \n",
    "                               #'RT-F>V227'\n",
    "                              ]\n",
    "\n",
    "df_plot = df_plot[df_plot['mutation_label'].isin(mutattion_label_of_interest)]\n",
    "\n",
    "\n",
    "orders = df_plot.sort_values(['gene_x', 'position'])['mutation_label'].unique()\n",
    "df_plot['time'] = df_plot['time'].astype(int)\n",
    "df_plot = df_plot.sort_values(['time'])\n",
    "\n",
    "print(df_plot['Pos'].unique())\n",
    "\n",
    "df_plot = df_plot.pivot_table(index=['mutation_label', 'Pos'], \n",
    "                        values='frequency',\n",
    "                        columns='time',\n",
    "                        aggfunc='mean',\n",
    "                        fill_value=0,\n",
    "                       ).reset_index()\n",
    "\n",
    "df_plot = pd.melt(df_plot, \n",
    "               id_vars=['mutation_label', 'Pos'], \n",
    "               var_name='time', \n",
    "               value_name='frequency')\n",
    "\n",
    "# add rows for each time \n",
    "for time in times: \n",
    "    for mutation_label in df_plot['mutation_label'].unique():\n",
    "        position = df_plot[df_plot['mutation_label']==mutation_label]['Pos'].unique()[0]\n",
    "        \n",
    "        if not time in df_plot[df_plot['mutation_label']==mutation_label]['time'].unique():\n",
    "            df_plot = df_plot.append({'mutation_label': mutation_label, \n",
    "                             'Pos': position, \n",
    "                            'time': time,\n",
    "                             'frequency': 0},\n",
    "                          ignore_index=True) \n",
    "            \n",
    "df_plot = pd.merge(df_plot, df_coverage[['pos', 'time', 'coverage']], \n",
    "                left_on = ['time', 'Pos'], \n",
    "                right_on= ['time', 'pos'])\n",
    "\n",
    "df_plot.loc[df_plot['coverage']<500, 'frequency'] = np.nan\n",
    "\n",
    "\n",
    "df_plot = df_plot.pivot_table(index='mutation_label', \n",
    "                        values='frequency',\n",
    "                        columns='time',\n",
    "                        aggfunc='mean',\n",
    "                       ).reindex(index=orders)\n",
    "\n",
    "\n",
    "fig = plt.figure(figsize = (30, 12))\n",
    "sns.set(font_scale=4)\n",
    "\n",
    "import matplotlib as mpl\n",
    "cmap = mpl.cm.get_cmap(\"RdPu\").copy()\n",
    "cmap.set_under(color='white')\n",
    "\n",
    "ax = fig.add_subplot(111)\n",
    "sns.heatmap(df_plot,\n",
    "            cmap=cmap,\n",
    "            vmin=0.0000001,\n",
    "            ax=ax)\n",
    "\n",
    "ax.tick_params(axis='y', rotation=0)\n",
    "ax.set_ylabel('mutations')\n",
    "ax.set_xlabel('weeks post-infection')\n",
    "\n",
    "fig.savefig('heatmap_application_hiv_drm.svg')"
   ]
  },
  {
   "cell_type": "code",
   "execution_count": 116,
   "id": "97cd6c90",
   "metadata": {},
   "outputs": [
    {
     "data": {
      "text/html": [
       "<div>\n",
       "<style scoped>\n",
       "    .dataframe tbody tr th:only-of-type {\n",
       "        vertical-align: middle;\n",
       "    }\n",
       "\n",
       "    .dataframe tbody tr th {\n",
       "        vertical-align: top;\n",
       "    }\n",
       "\n",
       "    .dataframe thead th {\n",
       "        text-align: right;\n",
       "    }\n",
       "</style>\n",
       "<table border=\"1\" class=\"dataframe\">\n",
       "  <thead>\n",
       "    <tr style=\"text-align: right;\">\n",
       "      <th>time</th>\n",
       "      <th>7</th>\n",
       "      <th>54</th>\n",
       "      <th>80</th>\n",
       "      <th>191</th>\n",
       "    </tr>\n",
       "    <tr>\n",
       "      <th>mutation_label</th>\n",
       "      <th></th>\n",
       "      <th></th>\n",
       "      <th></th>\n",
       "      <th></th>\n",
       "    </tr>\n",
       "  </thead>\n",
       "  <tbody>\n",
       "    <tr>\n",
       "      <th>IN-S&gt;G147</th>\n",
       "      <td>0.003717</td>\n",
       "      <td>0.0</td>\n",
       "      <td>0.018622</td>\n",
       "      <td>0.0</td>\n",
       "    </tr>\n",
       "  </tbody>\n",
       "</table>\n",
       "</div>"
      ],
      "text/plain": [
       "time                 7    54        80   191\n",
       "mutation_label                              \n",
       "IN-S>G147       0.003717  0.0  0.018622  0.0"
      ]
     },
     "execution_count": 116,
     "metadata": {},
     "output_type": "execute_result"
    }
   ],
   "source": [
    "df_plot"
   ]
  },
  {
   "cell_type": "code",
   "execution_count": 126,
   "id": "3ba34822",
   "metadata": {},
   "outputs": [
    {
     "data": {
      "text/html": [
       "<div>\n",
       "<style scoped>\n",
       "    .dataframe tbody tr th:only-of-type {\n",
       "        vertical-align: middle;\n",
       "    }\n",
       "\n",
       "    .dataframe tbody tr th {\n",
       "        vertical-align: top;\n",
       "    }\n",
       "\n",
       "    .dataframe thead th {\n",
       "        text-align: right;\n",
       "    }\n",
       "</style>\n",
       "<table border=\"1\" class=\"dataframe\">\n",
       "  <thead>\n",
       "    <tr style=\"text-align: right;\">\n",
       "      <th></th>\n",
       "      <th>Unnamed: 0</th>\n",
       "      <th>pos</th>\n",
       "      <th>coverage</th>\n",
       "      <th>sample</th>\n",
       "      <th>patient</th>\n",
       "      <th>time</th>\n",
       "    </tr>\n",
       "  </thead>\n",
       "  <tbody>\n",
       "    <tr>\n",
       "      <th>140733</th>\n",
       "      <td>4667</td>\n",
       "      <td>4668</td>\n",
       "      <td>538</td>\n",
       "      <td>CAP257/week_7</td>\n",
       "      <td>CAP257</td>\n",
       "      <td>7</td>\n",
       "    </tr>\n",
       "    <tr>\n",
       "      <th>179609</th>\n",
       "      <td>4667</td>\n",
       "      <td>4668</td>\n",
       "      <td>4716</td>\n",
       "      <td>CAP257/week_54</td>\n",
       "      <td>CAP257</td>\n",
       "      <td>54</td>\n",
       "    </tr>\n",
       "    <tr>\n",
       "      <th>189328</th>\n",
       "      <td>4667</td>\n",
       "      <td>4668</td>\n",
       "      <td>537</td>\n",
       "      <td>CAP257/week_80</td>\n",
       "      <td>CAP257</td>\n",
       "      <td>80</td>\n",
       "    </tr>\n",
       "    <tr>\n",
       "      <th>218485</th>\n",
       "      <td>4667</td>\n",
       "      <td>4668</td>\n",
       "      <td>616</td>\n",
       "      <td>CAP257/week_191</td>\n",
       "      <td>CAP257</td>\n",
       "      <td>191</td>\n",
       "    </tr>\n",
       "  </tbody>\n",
       "</table>\n",
       "</div>"
      ],
      "text/plain": [
       "        Unnamed: 0   pos  coverage           sample patient  time\n",
       "140733        4667  4668       538    CAP257/week_7  CAP257     7\n",
       "179609        4667  4668      4716   CAP257/week_54  CAP257    54\n",
       "189328        4667  4668       537   CAP257/week_80  CAP257    80\n",
       "218485        4667  4668       616  CAP257/week_191  CAP257   191"
      ]
     },
     "execution_count": 126,
     "metadata": {},
     "output_type": "execute_result"
    }
   ],
   "source": [
    "df_coverage[(df_coverage['patient']==patient_id)\n",
    "            & (df_coverage['time'].isin([7,54,80,191]))\n",
    "            & (df_coverage['pos'].isin([4668]))]"
   ]
  },
  {
   "cell_type": "code",
   "execution_count": null,
   "id": "4c004325",
   "metadata": {},
   "outputs": [],
   "source": []
  }
 ],
 "metadata": {
  "kernelspec": {
   "display_name": "Python 3 (ipykernel)",
   "language": "python",
   "name": "python3"
  },
  "language_info": {
   "codemirror_mode": {
    "name": "ipython",
    "version": 3
   },
   "file_extension": ".py",
   "mimetype": "text/x-python",
   "name": "python",
   "nbconvert_exporter": "python",
   "pygments_lexer": "ipython3",
   "version": "3.9.0"
  }
 },
 "nbformat": 4,
 "nbformat_minor": 5
}
