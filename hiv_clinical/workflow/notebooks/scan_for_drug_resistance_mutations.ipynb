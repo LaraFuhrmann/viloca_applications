{
 "cells": [
  {
   "cell_type": "code",
   "execution_count": 44,
   "id": "b064dd44",
   "metadata": {},
   "outputs": [],
   "source": [
    "import pandas as pd\n",
    "import numpy as np"
   ]
  },
  {
   "cell_type": "code",
   "execution_count": 2,
   "id": "2c44e68e",
   "metadata": {},
   "outputs": [],
   "source": [
    "# download table of drug resistance mutations\n",
    "# https://github.com/hivdb/hivfacts/blob/main/data/drms_hiv1.csv"
   ]
  },
  {
   "cell_type": "code",
   "execution_count": 5,
   "id": "0149b7da",
   "metadata": {},
   "outputs": [
    {
     "name": "stderr",
     "output_type": "stream",
     "text": [
      "--2024-01-05 11:55:48--  https://raw.githubusercontent.com/hivdb/hivfacts/main/data/drms_hiv1.csv\n",
      "Resolving raw.githubusercontent.com (raw.githubusercontent.com)... 185.199.110.133, 185.199.109.133, 185.199.111.133, ...\n",
      "Connecting to raw.githubusercontent.com (raw.githubusercontent.com)|185.199.110.133|:443... connected.\n",
      "HTTP request sent, awaiting response... 200 OK\n",
      "Length: 3567 (3.5K) [text/plain]\n",
      "Saving to: ‘drms_hiv1.csv’\n",
      "\n",
      "     0K ...                                                   100% 28.1M=0s\n",
      "\n",
      "2024-01-05 11:55:49 (28.1 MB/s) - ‘drms_hiv1.csv’ saved [3567/3567]\n",
      "\n"
     ]
    }
   ],
   "source": [
    "%%bash\n",
    "wget https://raw.githubusercontent.com/hivdb/hivfacts/main/data/drms_hiv1.csv"
   ]
  },
  {
   "cell_type": "code",
   "execution_count": 31,
   "id": "d0081d2b",
   "metadata": {},
   "outputs": [],
   "source": [
    "df_drms_hiv1 = pd.read_csv(\"drms_hiv1.csv\")\n",
    "df_drms_hiv1['position'] = df_drms_hiv1['position'].astype(int)\n",
    "\n",
    "CA_positions = list(df_drms_hiv1[df_drms_hiv1['gene']=='CA']['position'])\n",
    "PR_positions = list(df_drms_hiv1[df_drms_hiv1['gene']=='PR']['position'])\n",
    "RT_positions = list(df_drms_hiv1[df_drms_hiv1['gene']=='RT']['position'])\n",
    "IN_positions = list(df_drms_hiv1[df_drms_hiv1['gene']=='IN']['position'])"
   ]
  },
  {
   "cell_type": "code",
   "execution_count": 49,
   "id": "67c26934",
   "metadata": {},
   "outputs": [],
   "source": [
    "df = pd.read_csv(\"../../results/CAP217/week_358/snvs.annotated.csv\")\n",
    "df['n_reads_var'] = df['Rvar'] + df['Fvar']\n",
    "df['coverage'] = df['Rtot'] + df['Ftot']\n",
    "df['frequency'] = df['n_reads_var'] / df['coverage']\n",
    "df[\"gene\"].unique()\n",
    "df['aa_position'] = df['aa_position'].apply(lambda x: np.nan if x==\"error\" else int(x))"
   ]
  },
  {
   "cell_type": "code",
   "execution_count": 51,
   "id": "05e7a7bf",
   "metadata": {},
   "outputs": [],
   "source": [
    "df = df[['Pos', 'Ref', 'Var', 'frequency',  \n",
    "         'AltAA_f1', 'RefAA_f1', 'f1_IsSynonymous',\n",
    "         'AltAA_f2', 'RefAA_f2', 'f2_IsSynonymous',\n",
    "         'AltAA_f3', 'RefAA_f3', 'f3_IsSynonymous',\n",
    "          'gene', 'aa_position']]"
   ]
  },
  {
   "cell_type": "code",
   "execution_count": 79,
   "id": "e00ef8ec",
   "metadata": {},
   "outputs": [],
   "source": [
    "# exclude CA_positions for now\n",
    "\n",
    "df_res_PR = df[((df['gene']=='PR') & (df[\"aa_position\"].isin(PR_positions)))]\n",
    "df_res_PR = pd.merge(df_res_PR, df_drms_hiv1[df_drms_hiv1['gene']=='PR'], left_on=\"aa_position\", right_on=\"position\")\n",
    "# PR corresponding to frame3 in our dataframe annotations\n",
    "\n",
    "df_res_RT = df[((df['gene']=='RT') & (df[\"aa_position\"].isin(RT_positions)))]\n",
    "df_res_RT = pd.merge(df_res_RT, df_drms_hiv1[df_drms_hiv1['gene']=='RT'], left_on=\"aa_position\", right_on=\"position\")\n",
    "# RT corresponding to frame3 in our dataframe annotations\n",
    "\n",
    "df_res_IN = df[((df['gene']=='IN') & (df[\"aa_position\"].isin(IN_positions)))]\n",
    "df_res_IN = pd.merge(df_res_IN, df_drms_hiv1[df_drms_hiv1['gene']=='IN'], left_on=\"aa_position\", right_on=\"position\")\n",
    "# IN corresponding to frame3 in our dataframe annotations\n",
    "# however postion 232 has the wrong reference somehow \n",
    "\n",
    "\n",
    "df_res = pd.concat([df_res_PR, df_res_RT, df_res_IN])\n",
    "df_res = df_res[['Pos', 'Ref', 'Var', 'frequency',\n",
    "       'AltAA_f3', 'RefAA_f3', 'f3_IsSynonymous', 'gene_x', 'aa_position',\n",
    "       'drug_class', 'gene_y', 'position', 'aa']]"
   ]
  },
  {
   "cell_type": "code",
   "execution_count": 80,
   "id": "d6b6de27",
   "metadata": {},
   "outputs": [
    {
     "data": {
      "text/html": [
       "<div>\n",
       "<style scoped>\n",
       "    .dataframe tbody tr th:only-of-type {\n",
       "        vertical-align: middle;\n",
       "    }\n",
       "\n",
       "    .dataframe tbody tr th {\n",
       "        vertical-align: top;\n",
       "    }\n",
       "\n",
       "    .dataframe thead th {\n",
       "        text-align: right;\n",
       "    }\n",
       "</style>\n",
       "<table border=\"1\" class=\"dataframe\">\n",
       "  <thead>\n",
       "    <tr style=\"text-align: right;\">\n",
       "      <th></th>\n",
       "      <th>Pos</th>\n",
       "      <th>Ref</th>\n",
       "      <th>Var</th>\n",
       "      <th>frequency</th>\n",
       "      <th>AltAA_f3</th>\n",
       "      <th>RefAA_f3</th>\n",
       "      <th>f3_IsSynonymous</th>\n",
       "      <th>gene_x</th>\n",
       "      <th>aa_position</th>\n",
       "      <th>drug_class</th>\n",
       "      <th>gene_y</th>\n",
       "      <th>position</th>\n",
       "      <th>aa</th>\n",
       "    </tr>\n",
       "  </thead>\n",
       "  <tbody>\n",
       "    <tr>\n",
       "      <th>12</th>\n",
       "      <td>2842</td>\n",
       "      <td>C</td>\n",
       "      <td>G</td>\n",
       "      <td>0.999038</td>\n",
       "      <td>G</td>\n",
       "      <td>A</td>\n",
       "      <td>0</td>\n",
       "      <td>RT</td>\n",
       "      <td>98.0</td>\n",
       "      <td>NNRTI</td>\n",
       "      <td>RT</td>\n",
       "      <td>98</td>\n",
       "      <td>G</td>\n",
       "    </tr>\n",
       "    <tr>\n",
       "      <th>13</th>\n",
       "      <td>4925</td>\n",
       "      <td>T</td>\n",
       "      <td>C</td>\n",
       "      <td>0.987421</td>\n",
       "      <td>N</td>\n",
       "      <td>N</td>\n",
       "      <td>1</td>\n",
       "      <td>IN</td>\n",
       "      <td>232.0</td>\n",
       "      <td>INSTI</td>\n",
       "      <td>IN</td>\n",
       "      <td>232</td>\n",
       "      <td>N</td>\n",
       "    </tr>\n",
       "  </tbody>\n",
       "</table>\n",
       "</div>"
      ],
      "text/plain": [
       "     Pos Ref Var  frequency AltAA_f3 RefAA_f3  f3_IsSynonymous gene_x  \\\n",
       "12  2842   C   G   0.999038        G        A                0     RT   \n",
       "13  4925   T   C   0.987421        N        N                1     IN   \n",
       "\n",
       "    aa_position drug_class gene_y  position aa  \n",
       "12         98.0      NNRTI     RT        98  G  \n",
       "13        232.0      INSTI     IN       232  N  "
      ]
     },
     "execution_count": 80,
     "metadata": {},
     "output_type": "execute_result"
    }
   ],
   "source": [
    "df_res[df_res[\"aa\"]==df_res[\"AltAA_f3\"]]"
   ]
  },
  {
   "cell_type": "code",
   "execution_count": null,
   "id": "509b0b8d",
   "metadata": {},
   "outputs": [],
   "source": [
    "# https://hivdb.stanford.edu/hivdb/by-patterns/report/?mutations=RT%3AA98G%2CIN%3AD232N&name=RT%3AA98G%2BIN%3AD232N "
   ]
  }
 ],
 "metadata": {
  "kernelspec": {
   "display_name": "Python 3 (ipykernel)",
   "language": "python",
   "name": "python3"
  },
  "language_info": {
   "codemirror_mode": {
    "name": "ipython",
    "version": 3
   },
   "file_extension": ".py",
   "mimetype": "text/x-python",
   "name": "python",
   "nbconvert_exporter": "python",
   "pygments_lexer": "ipython3",
   "version": "3.9.0"
  }
 },
 "nbformat": 4,
 "nbformat_minor": 5
}
